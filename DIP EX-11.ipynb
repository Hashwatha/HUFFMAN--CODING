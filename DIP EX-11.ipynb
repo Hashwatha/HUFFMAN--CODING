{
 "cells": [
  {
   "cell_type": "code",
   "execution_count": 6,
   "id": "70cd2039-5476-4628-9f02-e5e1b64cf475",
   "metadata": {},
   "outputs": [
    {
     "name": "stdout",
     "output_type": "stream",
     "text": [
      "Character | Huffman Code\n",
      "-------------------------\n",
      "    c    |    00\n",
      "    l    |    010\n",
      "    r    |    011\n",
      "    e    |    10\n",
      "    t    |    110\n",
      "    a    |    111\n"
     ]
    }
   ],
   "source": [
    "# expt-11-huffman coding\n",
    "\n",
    "# Step 1: Get the input string\n",
    "input_string = \"accelerate\"  # Example input string\n",
    "# Step 2: Calculate frequency of each character in the input string\n",
    "frequency = {}\n",
    "for char in input_string:\n",
    "    if char in frequency:\n",
    "        frequency[char] += 1\n",
    "    else:\n",
    "        frequency[char] = 1\n",
    "# Step 3: Create tree nodes\n",
    "nodes = [[char, freq] for char, freq in frequency.items()]\n",
    "# Step 4: Main function to implement Huffman coding\n",
    "while len(nodes) > 1:\n",
    "    # Sort nodes based on frequency\n",
    "    nodes = sorted(nodes, key=lambda x: x[1])\n",
    "\n",
    "    # Pick two smallest nodes\n",
    "    left = nodes.pop(0)\n",
    "    right = nodes.pop(0)\n",
    "\n",
    "    # Create a new node with combined frequency\n",
    "    new_node = [[left, right], left[1] + right[1]]\n",
    "    nodes.append(new_node)\n",
    "\n",
    "# The final node is the Huffman tree\n",
    "huffman_tree = nodes[0]\n",
    "# Step 5: Generate Huffman codes\n",
    "huffman_codes = {}\n",
    "\n",
    "def generate_codes(tree, code=\"\"):\n",
    "    if isinstance(tree[0], str):  # If it's a leaf node\n",
    "        huffman_codes[tree[0]] = code\n",
    "    else:  # If it's an internal node, recurse\n",
    "        generate_codes(tree[0][0], code + \"0\")\n",
    "        generate_codes(tree[0][1], code + \"1\")\n",
    "\n",
    "generate_codes(huffman_tree)\n",
    "# Step 6: Print the characters and their Huffman codes\n",
    "print(\"Character | Huffman Code\")\n",
    "print(\"-------------------------\")\n",
    "for char, code in huffman_codes.items():\n",
    "    print(f\"    {char}    |    {code}\")"
   ]
  },
  {
   "cell_type": "code",
   "execution_count": null,
   "id": "f46ec8d2-c80a-4fa6-a63e-2ad31dbf898f",
   "metadata": {},
   "outputs": [],
   "source": []
  }
 ],
 "metadata": {
  "kernelspec": {
   "display_name": "Python [conda env:base] *",
   "language": "python",
   "name": "conda-base-py"
  },
  "language_info": {
   "codemirror_mode": {
    "name": "ipython",
    "version": 3
   },
   "file_extension": ".py",
   "mimetype": "text/x-python",
   "name": "python",
   "nbconvert_exporter": "python",
   "pygments_lexer": "ipython3",
   "version": "3.12.7"
  }
 },
 "nbformat": 4,
 "nbformat_minor": 5
}
